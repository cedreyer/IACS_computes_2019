{
 "cells": [
  {
   "cell_type": "markdown",
   "metadata": {},
   "source": [
    "## Practice problems (on everything)\n",
    "\n",
    "Disclaimer: problems `2`, `3` are taken from https://www.hackerrank.com/. Problem `4` is just slightly inspired by it. :)"
   ]
  },
  {
   "cell_type": "markdown",
   "metadata": {},
   "source": [
    "#### Problem 1.\n",
    "\n",
    "Here, we are given a list of programming languages used in different projects. There are repetitions, of course -- same language might have been used somewhere else! Our task is to analyze the list and print the following information:\n",
    "* The most popular programming language (or languages, if more than one);\n",
    "* The least popular programming language(s).\n",
    "\n",
    "For example:\n",
    "* Input: \\[Java, Python, C, Lisp, Python, Java, Python, C, Java\\]\n",
    "* Statements printed:\n",
    "\n",
    "`Python and Java are the most popular languages for those projects.`\n",
    "\n",
    "`Lisp is the least popular one.`"
   ]
  },
  {
   "cell_type": "code",
   "execution_count": null,
   "metadata": {},
   "outputs": [],
   "source": []
  },
  {
   "cell_type": "code",
   "execution_count": null,
   "metadata": {},
   "outputs": [],
   "source": []
  },
  {
   "cell_type": "markdown",
   "metadata": {},
   "source": [
    "#### Problem 2.\n",
    "\n",
    "Julius Caesar protected his confidential information by encrypting it using a cipher. [Caesar's cipher](https://en.wikipedia.org/wiki/Caesar_cipher) shifts each letter by a number of letters. If the shift takes you past the end of the alphabet, just rotate back to the front of the alphabet. In the case of a rotation by *3*, `w`, `x`, `y` and `z` would map to `z`, `a`, `b` and `c`. \n",
    "\n",
    "* Original alphabet: `abcdefghijklmnopqrstuvwxyz`\n",
    "* Rotated alphabet: `defghijklmnopqrstuvwxyzabc`\n",
    "\n",
    "For example, given the rotation by *3*:\n",
    "\n",
    "* Input: `python`\n",
    "* Output: `sbwkrq`\n",
    "\n",
    "Write a function that decyphers the encoded words. Start by creating a dictionary that gives a correspondence of original vs. encoded letters."
   ]
  },
  {
   "cell_type": "code",
   "execution_count": null,
   "metadata": {},
   "outputs": [],
   "source": []
  },
  {
   "cell_type": "code",
   "execution_count": null,
   "metadata": {},
   "outputs": [],
   "source": []
  },
  {
   "cell_type": "code",
   "execution_count": null,
   "metadata": {},
   "outputs": [],
   "source": []
  },
  {
   "cell_type": "markdown",
   "metadata": {},
   "source": [
    "#### Problem 3.\n",
    "\n",
    "Here, our task is to count the number of words in the input string. Alice wrote a sequence of words in [CamelCase](https://en.wikipedia.org/wiki/Camel_case) as a string of letters that has the following properties:\n",
    "\n",
    "* It is a concatenation of one or more words consisting of English letters.\n",
    "* All letters in the first word are lowercase.\n",
    "* For each of the subsequent words, the first letter is uppercase and rest of the letters are lowercase.\n",
    "\n",
    "For example, `helloThere` and `helloBeautifulWorld` are camel case, but `HelloThere` or `hellothere` are not. Your task is to write a function to count the number of words in the camel case string."
   ]
  },
  {
   "cell_type": "code",
   "execution_count": null,
   "metadata": {},
   "outputs": [],
   "source": []
  },
  {
   "cell_type": "markdown",
   "metadata": {},
   "source": [
    "#### Problem 4.\n",
    "\n",
    "This problem will have two parts. First, we will ask input from the user in order to fill the phonebook. Second, we will write a look-up function in order to retrieve the needed phone numbers.\n",
    "\n",
    "##### Sub-problem 4.1\n",
    "Create a dictionary and save phone numbers in it. Keep asking user for the input until they print `stop`."
   ]
  },
  {
   "cell_type": "code",
   "execution_count": null,
   "metadata": {},
   "outputs": [],
   "source": []
  },
  {
   "cell_type": "markdown",
   "metadata": {},
   "source": [
    "##### Sub-problem 4.2\n",
    "Now that you have a dictionary, write a function that takes that dictionary and a name as input, and returns the corresponding phone number. Handle the case if the phone number is not found in the dictionary."
   ]
  },
  {
   "cell_type": "code",
   "execution_count": null,
   "metadata": {},
   "outputs": [],
   "source": []
  }
 ],
 "metadata": {
  "kernelspec": {
   "display_name": "Python 3",
   "language": "python",
   "name": "python3"
  },
  "language_info": {
   "codemirror_mode": {
    "name": "ipython",
    "version": 3
   },
   "file_extension": ".py",
   "mimetype": "text/x-python",
   "name": "python",
   "nbconvert_exporter": "python",
   "pygments_lexer": "ipython3",
   "version": "3.6.7"
  }
 },
 "nbformat": 4,
 "nbformat_minor": 2
}
