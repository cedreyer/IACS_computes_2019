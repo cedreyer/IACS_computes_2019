{
 "cells": [
  {
   "cell_type": "markdown",
   "metadata": {},
   "source": [
    "# Coding practice"
   ]
  },
  {
   "cell_type": "markdown",
   "metadata": {},
   "source": [
    "Let's practice the tools and functions we have looked at the past couple of days. We'll have 2 main probems to solve today: staircase and sentiment analysis."
   ]
  },
  {
   "cell_type": "markdown",
   "metadata": {},
   "source": [
    "### Staircase\n",
    "\n",
    "For a given $n$, print the corresponding staircase made out of hash symbols. For example, if $n=6$, we should get:\n",
    "\n",
    "```\n",
    "#\n",
    "##\n",
    "###\n",
    "####\n",
    "#####\n",
    "######\n",
    "```"
   ]
  },
  {
   "cell_type": "code",
   "execution_count": null,
   "metadata": {},
   "outputs": [],
   "source": [
    "n = 6\n",
    "for i in range(n + 1):\n",
    "    print(\"#\" * i)"
   ]
  },
  {
   "cell_type": "markdown",
   "metadata": {},
   "source": [
    "### Sentiment analysis\n",
    "\n",
    "[Sentiment analysis](https://en.wikipedia.org/wiki/Sentiment_analysis), or *emotion AI*, is an area of Natural Language Processing (NLP) that allows us to extract and quantify opinions and emotions from the text.\n",
    "\n",
    "We will continue looking at this task more later, but for now let us create a super simple sentiment analysis system. Namely, we will let the computer read a sentence and decide whether it is nice or rude. \n",
    "\n",
    "Let us start by learning one more function defined for strings -- `str.split()`."
   ]
  },
  {
   "cell_type": "code",
   "execution_count": null,
   "metadata": {},
   "outputs": [],
   "source": [
    "s = \"This is a string\"\n",
    "my_list = s.split()\n",
    "print(my_list)"
   ]
  },
  {
   "cell_type": "markdown",
   "metadata": {},
   "source": [
    "As you can see, this method splits a string into separate words.\n",
    "\n",
    "Now we can start the sentiment analysis task!\n",
    "\n",
    "\n",
    "***What is good and what is bad?***\n",
    "\n",
    "Below, define two lists: `good_words` and `bad_words` that contain good and bad words, correspondingly. After, define a string `tweet` that will contain some phrase. (For now, avoid using punctuation)"
   ]
  },
  {
   "cell_type": "code",
   "execution_count": null,
   "metadata": {},
   "outputs": [],
   "source": [
    "good_words = [\"good\", \"well\", \"nice\", \"love\", \"fun\"]\n",
    "bad_words = [\"bad\", \"nasty\", \"eww\", \"negative\", \"itchy\"]\n",
    "tweet = \"This book is good and nice :)\""
   ]
  },
  {
   "cell_type": "markdown",
   "metadata": {},
   "source": [
    "Now, split the `tweet` into separate words. Try these tweets:\n",
    "\n",
    "1. \"Sentiment analysis is fun and easy!\" \n",
    "2. \"I don't like reading all of the negative tweets. :(\"\n",
    "3. \"I love ice cream. :D\"\n",
    "4. \"My back is itchy.\"`"
   ]
  },
  {
   "cell_type": "code",
   "execution_count": null,
   "metadata": {},
   "outputs": [],
   "source": [
    "tweet = tweet.split()\n",
    "print(tweet)"
   ]
  },
  {
   "cell_type": "markdown",
   "metadata": {},
   "source": [
    "Create the variables `good` and `bad` which you will increment by `1` every time you encounter a good or a bad word in the `tweet`. Using a loop, look at every word in your `tweet`, and see whether you can find it in the list of good or bad words. Every time you see a good or a bad word, update the corresponding counter."
   ]
  },
  {
   "cell_type": "code",
   "execution_count": null,
   "metadata": {},
   "outputs": [],
   "source": [
    "# create two counters\n",
    "good = 0\n",
    "bad = 0\n",
    "\n",
    "# using while, loop over every word in your tweet\n",
    "for word in tweet:\n",
    "    # if the word in the good or bad list, update the corresponding counter\n",
    "    if word in good_words:\n",
    "        good += 1\n",
    "    elif word in bad_words:\n",
    "        bad += 1"
   ]
  },
  {
   "cell_type": "markdown",
   "metadata": {},
   "source": [
    "Now we want to decide by comparing our two counters whether the tweet is good or bad. Let's write conditions which:\n",
    "1. will print `not enough data` if both counters are zero;\n",
    "2. will print that the text is mostly positive if `good` is bigger than `bad`;\n",
    "3. think about two additional outcomes!"
   ]
  },
  {
   "cell_type": "code",
   "execution_count": null,
   "metadata": {},
   "outputs": [],
   "source": [
    "if good == 0 and bad == 0:\n",
    "    print(\"Not enough data!\")\n",
    "elif good > bad:\n",
    "    print(\"The tweet is good!\")\n",
    "elif bad > good:\n",
    "    print(\"The tweet is bad!\")\n",
    "else:\n",
    "    print(\"The tweet is neutral.\")"
   ]
  },
  {
   "cell_type": "code",
   "execution_count": null,
   "metadata": {},
   "outputs": [],
   "source": []
  }
 ],
 "metadata": {
  "kernelspec": {
   "display_name": "Python 3",
   "language": "python",
   "name": "python3"
  },
  "language_info": {
   "codemirror_mode": {
    "name": "ipython",
    "version": 3
   },
   "file_extension": ".py",
   "mimetype": "text/x-python",
   "name": "python",
   "nbconvert_exporter": "python",
   "pygments_lexer": "ipython3",
   "version": "3.6.7"
  }
 },
 "nbformat": 4,
 "nbformat_minor": 2
}
