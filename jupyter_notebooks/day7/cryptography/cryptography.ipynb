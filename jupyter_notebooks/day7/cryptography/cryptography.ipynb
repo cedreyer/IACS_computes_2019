{
 "cells": [
  {
   "cell_type": "markdown",
   "metadata": {},
   "source": [
    "# Cryptography\n",
    "\n",
    "Cryptography is everywhere in modern life. Everytime you send or receive some kind of electronic communication, it will encrypted in some way. The strength of the encryption will depend on how sensitive the information is. \n",
    "\n",
    "## Making codes with code\n",
    "\n",
    "First, let's look a the simplest type of code: the *substitution cipher*. Here, we simply switch one letter in the alphabet for another. One way of doing this is known as the *Caesar shift cipher*: we shift each letter in the alphabet by some integer. Let's write some code to use this to encrypt a message that I'd like to send to my friend Bob. "
   ]
  },
  {
   "cell_type": "code",
   "execution_count": 9,
   "metadata": {},
   "outputs": [],
   "source": [
    "def caesar_shift(message, n=3):\n",
    "    \n",
    "    encrypted_message = \"\"\n",
    "    \n",
    "    # iterate over characters in message\n",
    "    for c in message.lower():\n",
    "        # check if the character is a letter\n",
    "        if c.isalpha():\n",
    "            # here we convert to the ascii representation using ord(), subtract off the \n",
    "            # ascii representation of 'a', add on the shift, then find the remainder of division \n",
    "            # by 26 (the number of letters in the alphabet), and add back on the ascii representation \n",
    "            # of 'a'. We convert it back to a character and add it to our message\n",
    "            l = (ord(c) - ord('a') + n)% 26 + ord('a')\n",
    "            encrypted_message += chr(l)\n",
    "            # add spaces in \n",
    "        elif c == ' ':\n",
    "            encrypted_message += ' '\n",
    "            \n",
    "    return encrypted_message"
   ]
  },
  {
   "cell_type": "code",
   "execution_count": 10,
   "metadata": {},
   "outputs": [
    {
     "data": {
      "text/plain": [
       "'kl ere krz duh brx'"
      ]
     },
     "execution_count": 10,
     "metadata": {},
     "output_type": "execute_result"
    }
   ],
   "source": [
    "caesar_shift('Hi Bob! How are you?')"
   ]
  },
  {
   "cell_type": "markdown",
   "metadata": {},
   "source": [
    "Great! But what if Bob wants to decrypt my message? We need to do the reverse operation:"
   ]
  },
  {
   "cell_type": "code",
   "execution_count": 17,
   "metadata": {},
   "outputs": [],
   "source": [
    "def decrypt_caesar(encrypted_message, n=3):\n",
    "    \n",
    "    message = \"\"\n",
    "    \n",
    "    for c in encrypted_message:\n",
    "        if c.isalpha():\n",
    "            l = (ord(c) - ord('a') - n)% 26 + ord('a')\n",
    "            message += chr(l)\n",
    "        else:\n",
    "            message += ' '\n",
    "            \n",
    "    return message"
   ]
  },
  {
   "cell_type": "code",
   "execution_count": 20,
   "metadata": {},
   "outputs": [
    {
     "data": {
      "text/plain": [
       "'hi bob how are you'"
      ]
     },
     "execution_count": 20,
     "metadata": {},
     "output_type": "execute_result"
    }
   ],
   "source": [
    "encrypted_message = caesar_shift('Hi Bob! How are you?')\n",
    "\n",
    "decrypt_caesar(encrypted_message)"
   ]
  },
  {
   "cell_type": "markdown",
   "metadata": {},
   "source": [
    "## Breaking codes with code"
   ]
  },
  {
   "cell_type": "markdown",
   "metadata": {},
   "source": [
    "Excellent! Unfortunately a simple encryption like this is pretty easy to break. For example, say our nosy friend Charlie is trying to listen in our conversation. Charlie could easily just brute force this using a loop over all the possible values of `n` until they hit upon a message that made sense:"
   ]
  },
  {
   "cell_type": "code",
   "execution_count": 21,
   "metadata": {},
   "outputs": [
    {
     "name": "stdout",
     "output_type": "stream",
     "text": [
      "kl ere krz duh brx\n",
      "jk dqd jqy ctg aqw\n",
      "ij cpc ipx bsf zpv\n",
      "hi bob how are you\n",
      "gh ana gnv zqd xnt\n",
      "fg zmz fmu ypc wms\n",
      "ef yly elt xob vlr\n",
      "de xkx dks wna ukq\n",
      "cd wjw cjr vmz tjp\n",
      "bc viv biq uly sio\n",
      "ab uhu ahp tkx rhn\n",
      "za tgt zgo sjw qgm\n",
      "yz sfs yfn riv pfl\n",
      "xy rer xem qhu oek\n",
      "wx qdq wdl pgt ndj\n",
      "vw pcp vck ofs mci\n",
      "uv obo ubj ner lbh\n",
      "tu nan tai mdq kag\n",
      "st mzm szh lcp jzf\n",
      "rs lyl ryg kbo iye\n",
      "qr kxk qxf jan hxd\n",
      "pq jwj pwe izm gwc\n",
      "op ivi ovd hyl fvb\n",
      "no huh nuc gxk eua\n",
      "mn gtg mtb fwj dtz\n",
      "lm fsf lsa evi csy\n"
     ]
    }
   ],
   "source": [
    "for n in range(26):\n",
    "    print(decrypt_caesar(encrypted_message, n))"
   ]
  },
  {
   "cell_type": "markdown",
   "metadata": {},
   "source": [
    "That took 2 lines and fraction of a second for our computer to break :(. Instead of just shifting the letters, we could instead scramble them in some random order. Fortunately, this is a lot more secure against brute force attacks like this, as now rather than there being 26 different variations for Charlie to brute force, there are $26! > 4 \\times 10^{26}$.\n",
    "\n",
    "## Frequency analysis\n",
    "\n",
    "However, if we used the same random order each time such that Charlie could build up a longer set of messages, this would still be pretty easy to break using *frequency analysis*. In the English language, the letters used tend to follow a standard frequency distribution, with 'e' being the most common, and 'z' the least common. All Charlie would have to do would be to plot the frequency of each letter in the messages and compare that against the frequency of letters in the English language. It wouldn't take too long to work out which letters were associated with each other. \n",
    "\n",
    "Let's try this now."
   ]
  },
  {
   "cell_type": "code",
   "execution_count": 51,
   "metadata": {},
   "outputs": [],
   "source": [
    "import numpy as np\n",
    "\n",
    "def encrypt(message, key):\n",
    "    \n",
    "    encrypted_message = \"\"\n",
    "    \n",
    "    for c in message.lower():\n",
    "        if c.isalpha():\n",
    "            # convert to integer using the ascii representation\n",
    "            l = ord(c) - ord('a')\n",
    "            # look up the new letter in the key\n",
    "            new_l = key[l]\n",
    "            \n",
    "            encrypted_message += chr(new_l + ord('a'))\n",
    "            \n",
    "        elif c == ' ':\n",
    "            encrypted_message += ' '\n",
    "            \n",
    "    return encrypted_message\n",
    "\n",
    "def decrypt(encrypted_message, key):\n",
    "    \n",
    "    message = \"\"\n",
    "    \n",
    "    for c in encrypted_message:\n",
    "        if c.isalpha():\n",
    "            l = ord(c) - ord('a')\n",
    "            \n",
    "            # look up the new letter in the key\n",
    "            new_l = np.where(key == l)[0]\n",
    "            \n",
    "            message += chr(new_l + ord('a'))\n",
    "            \n",
    "        else:\n",
    "            message += ' '\n",
    "            \n",
    "    return message\n",
    "            \n",
    "            "
   ]
  },
  {
   "cell_type": "code",
   "execution_count": 89,
   "metadata": {},
   "outputs": [],
   "source": [
    "from numpy.random import permutation\n",
    "\n",
    "# Here we will define the encryption/decryption key that Bob and I will use for our messages.\n",
    "# It's a random permutation of the numbers 0-25.\n",
    "key = permutation(range(26))"
   ]
  },
  {
   "cell_type": "code",
   "execution_count": 90,
   "metadata": {},
   "outputs": [
    {
     "name": "stdout",
     "output_type": "stream",
     "text": [
      "zl whw zha ocy vhj\n"
     ]
    },
    {
     "data": {
      "text/plain": [
       "'hi bob how are you'"
      ]
     },
     "execution_count": 90,
     "metadata": {},
     "output_type": "execute_result"
    }
   ],
   "source": [
    "encrypted_message = encrypt('hi bob! how are you?', key)\n",
    "print(encrypted_message)\n",
    "\n",
    "decrypt(encrypted_message, key)"
   ]
  },
  {
   "cell_type": "markdown",
   "metadata": {},
   "source": [
    "Right, we have our encryption and decryption working. Let's see what Charlie might do to try and break it. First, let's plot the standard frequency distribution of letters in English."
   ]
  },
  {
   "cell_type": "code",
   "execution_count": 91,
   "metadata": {},
   "outputs": [
    {
     "data": {
      "image/png": "[encoded data removed]",
      "text/plain": [
       "<Figure size 720x720 with 1 Axes>"
      ]
     },
     "metadata": {
      "needs_background": "light"
     },
     "output_type": "display_data"
    }
   ],
   "source": [
    "freqs = np.array([8.167,1.492,2.782,4.253,12.702,2.228,2.015,6.094,6.966,0.153,0.772,4.025,2.406,6.749,\n",
    "         7.507,1.929,0.095,5.987,6.327,9.056,2.758,0.978,2.360,0.150,1.974,0.074]) / 100\n",
    " \n",
    "import matplotlib.pyplot as plt\n",
    "%matplotlib inline\n",
    "\n",
    "fig, ax = plt.subplots(figsize=(10,10))\n",
    "\n",
    "letters = [chr(n + ord('a')) for n in range(26)]\n",
    "\n",
    "x_pos = np.arange(26)\n",
    "\n",
    "ax.bar(x_pos, freqs, align='center');\n",
    "ax.set_xticks(x_pos)\n",
    "ax.set_xticklabels(letters)\n",
    "\n",
    "ax.set_ylabel('Frequency')\n",
    "\n",
    "ax.set_title('Frequency distribution of letters in English')\n",
    "\n",
    "plt.show()"
   ]
  },
  {
   "cell_type": "markdown",
   "metadata": {},
   "source": [
    "As expected, the frequencies of letters like a, e and t are highest, whereas there are very few j's, q's, x's or z's. Now let's encrypt a longer message and see what happens when we compare the frequency distribution of letters against standard English."
   ]
  },
  {
   "cell_type": "code",
   "execution_count": 92,
   "metadata": {},
   "outputs": [],
   "source": [
    "message = \"When Mr. Bilbo Baggins of Bag End announced that he would shortly be celebrating his eleventy-first birthday with a party of special magnificence, there was much talk and excitement in Hobbiton.Bilbo was very rich and very peculiar, and had been the wonder of the Shire for sixty years, ever since his remarkable disappearance and unexpected return. The riches he had brought back from his travels had now become a local legend, and it was popularly believed, whatever the old folk might say, that the Hill at Bag End was full of tunnels stuffed with treasure. And if that was not enough for fame, there was also his prolonged vigour to marvel at. Time wore on, but it seemed to have little effect on Mr. Baggins. At ninety he was much the same as at fifty. At ninety-nine they began to call him well-preserved ; but unchanged would have been nearer the mark. There were some that shook their heads and thought this was too much of a good thing; it seemed unfair that anyone should possess (apparently) perpetual youth as well as (reputedly) inexhaustible wealth.‘It will have to be paid for,’ they said. ‘It isn’t natural, and trouble will come of it!’But so far trouble had not come; and as Mr. Baggins was generous with his money, most people were willing to forgive him his oddities and his good fortune. He remained on visiting terms with his relatives (except, of course, the Sackville-Bagginses), and he had many devoted admirers among the hobbits of poor and unimportant families. But he had no close friends, until some of his younger cousins began to grow up.The eldest of these, and Bilbo’s favourite, was young Frodo Baggins. When Bilbo was ninety-nine he adopted Frodo as his heir, and brought him to live at Bag End; and the hopes of the Sackville-Bagginses were finally dashed. Bilbo and Frodo happened to have the same birthday, September 22nd. ‘You had better come and live here, Frodo my lad,’ said Bilbo one day; ‘and then we can celebrate our birthday-parties comfortably together.’ At that time Frodo was still in his tweens, as the hobbits called the irresponsible twenties between childhood and coming of age at thirty-three.Twelve more years passed. Each year the Bagginses had given very lively combined birthday-parties at Bag End; but now it was understood that something quite exceptional was being planned for that autumn. Bilbo was going to be eleventy-one , 111, a rather curious number, and a very respectable age for a hobbit (the Old Took himself had only reached 130); and Frodo was going to be thirty-three , 33, an important number: the date of his ‘coming of age’.\""
   ]
  },
  {
   "cell_type": "code",
   "execution_count": 93,
   "metadata": {},
   "outputs": [
    {
     "data": {
      "text/plain": [
       "'azyx kc wldwh wogglxb hm wog yxi oxxhjxqyi szos zy ahjdi bzhcsdv wy qydywcoslxg zlb ydyfyxsvmlcbs wlcsziov alsz o rocsv hm bryqlod kogxlmlqyxqy szycy aob kjqz sodp oxi ytqlsykyxs lx zhwwlshxwldwh aob fycv clqz oxi fycv ryqjdloc oxi zoi wyyx szy ahxiyc hm szy bzlcy mhc bltsv vyocb yfyc blxqy zlb cykocpowdy ilborryocoxqy oxi jxytryqsyi cysjcx szy clqzyb zy zoi wchjgzs woqp mchk zlb scofydb zoi xha wyqhky o dhqod dygyxi oxi ls aob rhrjdocdv wydlyfyi azosyfyc szy hdi mhdp klgzs bov szos szy zldd os wog yxi aob mjdd hm sjxxydb bsjmmyi alsz scyobjcy oxi lm szos aob xhs yxhjgz mhc moky szycy aob odbh zlb rchdhxgyi flghjc sh kocfyd os slky ahcy hx wjs ls byykyi sh zofy dlssdy ymmyqs hx kc wogglxb os xlxysv zy aob kjqz szy boky ob os mlmsv os xlxysvxlxy szyv wygox sh qodd zlk ayddrcybycfyi  wjs jxqzoxgyi ahjdi zofy wyyx xyocyc szy kocp szycy aycy bhky szos bzhhp szylc zyoib oxi szhjgzs szlb aob shh kjqz hm o ghhi szlxg ls byykyi jxmolc szos oxvhxy bzhjdi rhbbybb orrocyxsdv rycrysjod vhjsz ob aydd ob cyrjsyidv lxytzojbslwdy ayodszls aldd zofy sh wy roli mhc szyv boli ls lbxs xosjcod oxi schjwdy aldd qhky hm lswjs bh moc schjwdy zoi xhs qhky oxi ob kc wogglxb aob gyxychjb alsz zlb khxyv khbs ryhrdy aycy alddlxg sh mhcglfy zlk zlb hiilslyb oxi zlb ghhi mhcsjxy zy cykolxyi hx flblslxg syckb alsz zlb cydoslfyb ytqyrs hm qhjcby szy boqpflddywogglxbyb oxi zy zoi koxv iyfhsyi oiklcycb okhxg szy zhwwlsb hm rhhc oxi jxlkrhcsoxs mokldlyb wjs zy zoi xh qdhby mclyxib jxsld bhky hm zlb vhjxgyc qhjblxb wygox sh gcha jrszy ydiybs hm szyby oxi wldwhb mofhjclsy aob vhjxg mchih wogglxb azyx wldwh aob xlxysvxlxy zy oihrsyi mchih ob zlb zylc oxi wchjgzs zlk sh dlfy os wog yxi oxi szy zhryb hm szy boqpflddywogglxbyb aycy mlxoddv iobzyi wldwh oxi mchih zorryxyi sh zofy szy boky wlcsziov byrsykwyc xi vhj zoi wyssyc qhky oxi dlfy zycy mchih kv doi boli wldwh hxy iov oxi szyx ay qox qydywcosy hjc wlcsziovrocslyb qhkmhcsowdv shgyszyc os szos slky mchih aob bsldd lx zlb sayyxb ob szy zhwwlsb qoddyi szy lccybrhxblwdy sayxslyb wysayyx qzldizhhi oxi qhklxg hm ogy os szlcsvszcyysaydfy khcy vyocb robbyi yoqz vyoc szy wogglxbyb zoi glfyx fycv dlfydv qhkwlxyi wlcsziovrocslyb os wog yxi wjs xha ls aob jxiycbshhi szos bhkyszlxg ejlsy ytqyrslhxod aob wylxg rdoxxyi mhc szos ojsjkx wldwh aob ghlxg sh wy ydyfyxsvhxy   o coszyc qjclhjb xjkwyc oxi o fycv cybryqsowdy ogy mhc o zhwwls szy hdi shhp zlkbydm zoi hxdv cyoqzyi  oxi mchih aob ghlxg sh wy szlcsvszcyy   ox lkrhcsoxs xjkwyc szy iosy hm zlb qhklxg hm ogy'"
      ]
     },
     "execution_count": 93,
     "metadata": {},
     "output_type": "execute_result"
    }
   ],
   "source": [
    "encrypted_message = encrypt(message, key)\n",
    "encrypted_message"
   ]
  },
  {
   "cell_type": "code",
   "execution_count": 94,
   "metadata": {},
   "outputs": [
    {
     "data": {
      "image/png": "[encoded data removed]",
      "text/plain": [
       "<Figure size 720x720 with 1 Axes>"
      ]
     },
     "metadata": {
      "needs_background": "light"
     },
     "output_type": "display_data"
    }
   ],
   "source": [
    "def calc_frequency(text):\n",
    "    # remove whitespace\n",
    "    text = text.replace(' ', '')\n",
    "    n_letters = len(text)\n",
    "    \n",
    "    freqs = np.zeros(26)\n",
    "    \n",
    "    for c in text:\n",
    "        freqs[ord(c) - ord('a')] += 1\n",
    "        \n",
    "    freqs /= len(text)\n",
    "    \n",
    "    return freqs\n",
    "\n",
    "encrypted_freqs = calc_frequency(encrypted_message)\n",
    "\n",
    "fig, ax = plt.subplots(figsize=(10,10))\n",
    "bar_width = 0.35\n",
    "\n",
    "ax.bar(x_pos, freqs, bar_width, label=\"English\")\n",
    "ax.bar(x_pos + bar_width, encrypted_freqs, bar_width, label=\"encrypted\")\n",
    "ax.set_xticks(x_pos)\n",
    "ax.set_xticklabels(letters)\n",
    "\n",
    "ax.set_ylabel('Frequency')\n",
    "\n",
    "ax.set_title('Frequency distribution of letters in encrypted message')\n",
    "\n",
    "plt.legend()\n",
    "\n",
    "plt.show()"
   ]
  },
  {
   "cell_type": "markdown",
   "metadata": {},
   "source": [
    "Here we can clearly see that the most frequent letters in the encrypted message do not line up with what we'd expect for something in standard English. Let's make a first pass at decrypting the message by assuming that the most common letter in the encrypted message is the same as the most common letter in English, and so on for all the other letters. "
   ]
  },
  {
   "cell_type": "code",
   "execution_count": 104,
   "metadata": {},
   "outputs": [],
   "source": [
    "# let's try and reshuffle the letters to see if we can make a first guess for what they should be \n",
    "\n",
    "# define a helper function to allow us to sort letters by their frequency\n",
    "def take_second(elem):\n",
    "    return elem[1]\n",
    "\n",
    "sorted_english = sorted(zip(letters, freqs), key=take_second, reverse=True)\n",
    "\n",
    "sorted_encrypted = sorted(zip(letters, encrypted_freqs), key=take_second, reverse=True)\n",
    "\n",
    "# create a dictionary which matches up the letters in the encrypted message with letters in \n",
    "# standard english that have the same rank when sorted by frequency\n",
    "letter_pairs = dict(zip([l[0] for l in sorted_encrypted], [l[0] for l in sorted_english]))\n",
    "\n",
    "decrypted = \"\"\n",
    "\n",
    "# use the dictionary of letter pairs to try and decrypt the message\n",
    "for c in encrypted_message:\n",
    "    if c.isalpha():\n",
    "        decrypted += letter_pairs[c]\n",
    "    else:\n",
    "        decrypted += ' '"
   ]
  },
  {
   "cell_type": "code",
   "execution_count": 105,
   "metadata": {},
   "outputs": [
    {
     "data": {
      "text/plain": [
       "'gsen wr cilco ctuuinh of ctu end tnnomnyed asta se gomld hsoralp ce yelecrtainu sih elevenapfirha cirasdtp gias t btrap of hbeyitl wtunifiyenye asere gth wmys atlk tnd ejyiaewena in socciaoncilco gth verp riys tnd verp beymlitr tnd std ceen ase gonder of ase hsire for hijap petrh ever hinye sih rewtrktcle dihtbbetrtnye tnd mnejbeyaed reamrn ase riyseh se std cromusa ctyk frow sih artvelh std nog ceyowe t loytl leuend tnd ia gth bobmltrlp celieved gstaever ase old folk wiusa htp asta ase sill ta ctu end gth fmll of amnnelh hamffed gias arethmre tnd if asta gth noa enomus for ftwe asere gth tlho sih brolonued viuomr ao wtrvel ta aiwe gore on cma ia heewed ao stve liaale effeya on wr ctuuinh ta nineap se gth wmys ase htwe th ta fifap ta nineapnine asep ceutn ao ytll siw gellbreherved  cma mnystnued gomld stve ceen netrer ase wtrk asere gere howe asta hsook aseir setdh tnd asomusa asih gth aoo wmys of t uood asinu ia heewed mnftir asta tnpone hsomld bohhehh tbbtrenalp berbeamtl pomas th gell th rebmaedlp inejstmhaicle getlasia gill stve ao ce btid for asep htid ia ihna ntamrtl tnd aromcle gill yowe of iacma ho ftr aromcle std noa yowe tnd th wr ctuuinh gth ueneromh gias sih wonep woha beoble gere gillinu ao foruive siw sih oddiaieh tnd sih uood foramne se rewtined on vihiainu aerwh gias sih reltaiveh ejyeba of yomrhe ase htykvillectuuinheh tnd se std wtnp devoaed tdwirerh twonu ase socciah of boor tnd mniwboratna ftwilieh cma se std no ylohe friendh mnail howe of sih pomnuer yomhinh ceutn ao urog mbase eldeha of asehe tnd cilcoh ftvomriae gth pomnu frodo ctuuinh gsen cilco gth nineapnine se tdobaed frodo th sih seir tnd cromusa siw ao live ta ctu end tnd ase sobeh of ase htykvillectuuinheh gere fintllp dthsed cilco tnd frodo stbbened ao stve ase htwe cirasdtp hebaewcer nd pom std ceaaer yowe tnd live sere frodo wp ltd htid cilco one dtp tnd asen ge ytn yelecrtae omr cirasdtpbtraieh yowforatclp aoueaser ta asta aiwe frodo gth haill in sih ageenh th ase socciah ytlled ase irrehbonhicle agenaieh ceageen ysildsood tnd yowinu of tue ta asirapasreeagelve wore petrh bthhed etys petr ase ctuuinheh std uiven verp livelp yowcined cirasdtpbtraieh ta ctu end cma nog ia gth mnderhaood asta howeasinu xmiae ejyebaiontl gth ceinu bltnned for asta tmamwn cilco gth uoinu ao ce elevenapone   t rtaser ymriomh nmwcer tnd t verp rehbeyatcle tue for t soccia ase old aook siwhelf std onlp retysed  tnd frodo gth uoinu ao ce asirapasree   tn iwboratna nmwcer ase dtae of sih yowinu of tue'"
      ]
     },
     "execution_count": 105,
     "metadata": {},
     "output_type": "execute_result"
    }
   ],
   "source": [
    "decrypted"
   ]
  },
  {
   "cell_type": "code",
   "execution_count": 115,
   "metadata": {},
   "outputs": [
    {
     "data": {
      "text/plain": [
       "'When Mr. Bilbo Baggins of Bag End announced that he would shortly be celebrating his eleventy-first birthday with a party of special magnificence, there was much talk and excitement in Hobbiton.Bilbo was very rich and very peculiar, and had been the wonder of the Shire for sixty years, ever since his remarkable disappearance and unexpected return. The riches he had brought back from his travels had now become a local legend, and it was popularly believed, whatever the old folk might say, that the Hill at Bag End was full of tunnels stuffed with treasure. And if that was not enough for fame, there was also his prolonged vigour to marvel at. Time wore on, but it seemed to have little effect on Mr. Baggins. At ninety he was much the same as at fifty. At ninety-nine they began to call him well-preserved ; but unchanged would have been nearer the mark. There were some that shook their heads and thought this was too much of a good thing; it seemed unfair that anyone should possess (apparently) perpetual youth as well as (reputedly) inexhaustible wealth.‘It will have to be paid for,’ they said. ‘It isn’t natural, and trouble will come of it!’But so far trouble had not come; and as Mr. Baggins was generous with his money, most people were willing to forgive him his oddities and his good fortune. He remained on visiting terms with his relatives (except, of course, the Sackville-Bagginses), and he had many devoted admirers among the hobbits of poor and unimportant families. But he had no close friends, until some of his younger cousins began to grow up.The eldest of these, and Bilbo’s favourite, was young Frodo Baggins. When Bilbo was ninety-nine he adopted Frodo as his heir, and brought him to live at Bag End; and the hopes of the Sackville-Bagginses were finally dashed. Bilbo and Frodo happened to have the same birthday, September 22nd. ‘You had better come and live here, Frodo my lad,’ said Bilbo one day; ‘and then we can celebrate our birthday-parties comfortably together.’ At that time Frodo was still in his tweens, as the hobbits called the irresponsible twenties between childhood and coming of age at thirty-three.Twelve more years passed. Each year the Bagginses had given very lively combined birthday-parties at Bag End; but now it was understood that something quite exceptional was being planned for that autumn. Bilbo was going to be eleventy-one , 111, a rather curious number, and a very respectable age for a hobbit (the Old Took himself had only reached 130); and Frodo was going to be thirty-three , 33, an important number: the date of his ‘coming of age’.'"
      ]
     },
     "execution_count": 115,
     "metadata": {},
     "output_type": "execute_result"
    }
   ],
   "source": [
    "message"
   ]
  },
  {
   "cell_type": "markdown",
   "metadata": {},
   "source": [
    "Hmmm not great, but good for a first attempt! We can see that even with this pretty simple brute force attempt, we've been able to decrypt the letters e, n, r, l, o, d, i, v, f, k... We can even spot some entire words in there: end, eleven, old, folk, one, frodo, of, live, for... With a little more care, it wouldn't take too long to decrypt the message entirely. Clearly if Bob and I are going to stop Charlie from listening in, we're going to need something more clever than a substitution cipher."
   ]
  },
  {
   "cell_type": "markdown",
   "metadata": {},
   "source": [
    "## More complex encryption goes here"
   ]
  },
  {
   "cell_type": "code",
   "execution_count": null,
   "metadata": {},
   "outputs": [],
   "source": []
  }
 ],
 "metadata": {
  "kernelspec": {
   "display_name": "Python 3",
   "language": "python",
   "name": "python3"
  },
  "language_info": {
   "codemirror_mode": {
    "name": "ipython",
    "version": 3
   },
   "file_extension": ".py",
   "mimetype": "text/x-python",
   "name": "python",
   "nbconvert_exporter": "python",
   "pygments_lexer": "ipython3",
   "version": "3.7.3"
  }
 },
 "nbformat": 4,
 "nbformat_minor": 2
}
