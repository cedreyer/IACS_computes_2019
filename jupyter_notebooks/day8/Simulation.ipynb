{
 "cells": [
  {
   "cell_type": "markdown",
   "metadata": {},
   "source": [
    "# Simulation"
   ]
  },
  {
   "cell_type": "code",
   "execution_count": 29,
   "metadata": {},
   "outputs": [],
   "source": [
    "# Importing random that helps use generate random values and choices\n",
    "import random\n",
    "\n",
    "# Using the random.choice function to draw a random value from a given list\n",
    "l = ['H','T']\n",
    "random.choice(l)"
   ]
  },
  {
   "cell_type": "markdown",
   "metadata": {},
   "source": [
    "## Coin Toss - Fair coin"
   ]
  },
  {
   "cell_type": "code",
   "execution_count": 33,
   "metadata": {},
   "outputs": [
    {
     "name": "stdout",
     "output_type": "stream",
     "text": [
      "Heads appears:  50.02 %\n",
      "Tails appears:  49.98 %\n"
     ]
    }
   ],
   "source": [
    "# Initializing the count of heads\n",
    "count_h = 0\n",
    "count_t = 0\n",
    "\n",
    "# Outcomes of a trial\n",
    "l = ['H','T']\n",
    "\n",
    "# Number of trails\n",
    "n = 10000\n",
    "\n",
    "# Repeating the experiment n times\n",
    "for i in range(n):\n",
    "    if random.choice(l) == 'H':\n",
    "        count_h += 1\n",
    "    else:\n",
    "        count_t += 1\n",
    "\n",
    "print(\"Heads appears: \",count_h*100/n, \"%\")\n",
    "print(\"Tails appears: \",count_t*100/n, \"%\")\n"
   ]
  },
  {
   "cell_type": "markdown",
   "metadata": {},
   "source": [
    "## Monty Hall Problem"
   ]
  },
  {
   "cell_type": "code",
   "execution_count": 34,
   "metadata": {},
   "outputs": [
    {
     "name": "stdout",
     "output_type": "stream",
     "text": [
      "switching wins:  65.65 %\n",
      "staying wins:  34.35 %\n"
     ]
    }
   ],
   "source": [
    "# Initializing the counts for staying and switching\n",
    "count_switch = 0\n",
    "count_stay = 0\n",
    "\n",
    "# Number of trails\n",
    "n = 10000\n",
    "\n",
    "# Assiging doors with names\n",
    "doors = [\"A\", \"B\", \"C\"]\n",
    "\n",
    "# Repeating the game n number of times\n",
    "for i in range(n):\n",
    "    car_door = random.choice(doors)\n",
    "    user_choice = random.choice(doors)\n",
    "    open_door = random.choice([i for i in doors if i not in [car_door, user_choice]])\n",
    "    if user_choice != car_door:\n",
    "        count_switch += 1\n",
    "    else:\n",
    "        count_stay += 1\n",
    "\n",
    "print(\"switching wins: \",count_switch*100/n,\"%\")\n",
    "print(\"staying wins: \",count_stay*100/n,\"%\")"
   ]
  }
 ],
 "metadata": {
  "kernelspec": {
   "display_name": "Python 3",
   "language": "python",
   "name": "python3"
  },
  "language_info": {
   "codemirror_mode": {
    "name": "ipython",
    "version": 3
   },
   "file_extension": ".py",
   "mimetype": "text/x-python",
   "name": "python",
   "nbconvert_exporter": "python",
   "pygments_lexer": "ipython3",
   "version": "3.7.3"
  }
 },
 "nbformat": 4,
 "nbformat_minor": 2
}
