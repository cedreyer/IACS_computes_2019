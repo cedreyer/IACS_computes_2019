{
 "cells": [
  {
   "cell_type": "markdown",
   "metadata": {},
   "source": [
    "# Practice\n",
    "\n",
    "\n",
    "#### Problem 1: warm-up\n",
    "Write a function `leap` that determines whether a given year is a normal year or a leap year.\n",
    "\n",
    "Leap years occur mostly every 4 years, but every 100 years we skip a leap year unless the year is divisible by 400."
   ]
  },
  {
   "cell_type": "code",
   "execution_count": 1,
   "metadata": {},
   "outputs": [
    {
     "data": {
      "text/plain": [
       "False"
      ]
     },
     "execution_count": 1,
     "metadata": {},
     "output_type": "execute_result"
    }
   ],
   "source": [
    "def leap(year):\n",
    "    if year % 4 == 0:\n",
    "        if not year % 100 == 0 or year % 400 == 0:\n",
    "            return True\n",
    "    return False\n",
    "\n",
    "leap(2100)"
   ]
  },
  {
   "cell_type": "markdown",
   "metadata": {},
   "source": [
    "Next, write a function `leap_years` that tells you which years out of the next `n` years are going to be leap years."
   ]
  },
  {
   "cell_type": "code",
   "execution_count": 2,
   "metadata": {},
   "outputs": [
    {
     "data": {
      "text/plain": [
       "[2020, 2024, 2028, 2032, 2036]"
      ]
     },
     "execution_count": 2,
     "metadata": {},
     "output_type": "execute_result"
    }
   ],
   "source": [
    "def leap_years(n):\n",
    "    \n",
    "    l = []\n",
    "    cy = 2018\n",
    "    \n",
    "    for i in range(1, n):\n",
    "        check = leap(cy + i)\n",
    "        if check:\n",
    "            l.append(cy + i)\n",
    "            \n",
    "    return l\n",
    "\n",
    "leap_years(20)"
   ]
  },
  {
   "cell_type": "code",
   "execution_count": 3,
   "metadata": {},
   "outputs": [
    {
     "data": {
      "text/plain": [
       "[2020, 2024, 2028, 2032, 2036, 2040, 2044, 2048, 2052, 2056, 2060, 2064]"
      ]
     },
     "execution_count": 3,
     "metadata": {},
     "output_type": "execute_result"
    }
   ],
   "source": [
    "def fancy_leap_years(n):\n",
    "    return [i for i in range(2018, 2018 + n) if leap(i)]\n",
    "\n",
    "fancy_leap_years(50)"
   ]
  },
  {
   "cell_type": "markdown",
   "metadata": {},
   "source": [
    "#### Problem 2: advanced\n",
    "\n",
    "Write a function which implements [Pascal's triangle](http://mathforum.org/dr.math/faq/faq.pascal.triangle.html)."
   ]
  },
  {
   "cell_type": "code",
   "execution_count": 4,
   "metadata": {},
   "outputs": [],
   "source": [
    "def pascal(n):\n",
    "    \n",
    "    if n == 1:\n",
    "        print([1])\n",
    "        return [1]\n",
    "    if n == 2:\n",
    "        print([1])\n",
    "        print([1,1])\n",
    "        return [1,1]\n",
    "    \n",
    "    prev_level = pascal(n - 1)\n",
    "    new = [1]\n",
    "    for i in range(len(prev_level) - 1):\n",
    "        new.append(prev_level[i] + prev_level[i + 1])\n",
    "    new.append(1)\n",
    "    print(new)\n",
    "    return new"
   ]
  },
  {
   "cell_type": "code",
   "execution_count": 5,
   "metadata": {},
   "outputs": [
    {
     "name": "stdout",
     "output_type": "stream",
     "text": [
      "[1]\n",
      "[1, 1]\n",
      "[1, 2, 1]\n",
      "[1, 3, 3, 1]\n",
      "[1, 4, 6, 4, 1]\n",
      "[1, 5, 10, 10, 5, 1]\n",
      "[1, 6, 15, 20, 15, 6, 1]\n"
     ]
    },
    {
     "data": {
      "text/plain": [
       "[1, 6, 15, 20, 15, 6, 1]"
      ]
     },
     "execution_count": 5,
     "metadata": {},
     "output_type": "execute_result"
    }
   ],
   "source": [
    "pascal(7)"
   ]
  },
  {
   "cell_type": "code",
   "execution_count": null,
   "metadata": {},
   "outputs": [],
   "source": []
  }
 ],
 "metadata": {
  "kernelspec": {
   "display_name": "Python 3",
   "language": "python",
   "name": "python3"
  },
  "language_info": {
   "codemirror_mode": {
    "name": "ipython",
    "version": 3
   },
   "file_extension": ".py",
   "mimetype": "text/x-python",
   "name": "python",
   "nbconvert_exporter": "python",
   "pygments_lexer": "ipython3",
   "version": "3.7.3"
  }
 },
 "nbformat": 4,
 "nbformat_minor": 2
}
