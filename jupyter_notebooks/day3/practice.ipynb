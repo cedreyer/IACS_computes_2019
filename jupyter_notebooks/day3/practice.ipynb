{
 "cells": [
  {
   "cell_type": "markdown",
   "metadata": {},
   "source": [
    "# Day 3 practice"
   ]
  },
  {
   "cell_type": "markdown",
   "metadata": {},
   "source": [
    "### Draw sunglasses\n",
    "\n",
    "For our next problem, let's draw sunglasses with Turtles. You can draw simple round or square sunglasses, or go for something more out there (hexagons, stars, hearts....).\n",
    "\n",
    "First run the cell below to import the library, create a window to draw in, and add our turtle."
   ]
  },
  {
   "cell_type": "code",
   "execution_count": null,
   "metadata": {},
   "outputs": [],
   "source": [
    "import turtle\n",
    "window = turtle.Screen()\n",
    "ted = turtle.Turtle()"
   ]
  },
  {
   "cell_type": "markdown",
   "metadata": {},
   "source": [
    "Now, write your own code to draw sunglasses!"
   ]
  },
  {
   "cell_type": "code",
   "execution_count": null,
   "metadata": {},
   "outputs": [],
   "source": [
    "# clean up just in case\n",
    "ted.home()\n",
    "ted.clear()\n",
    "\n",
    "ted.pensize(3)\n",
    "ted.pencolor('black')\n",
    "ted.fillcolor((0.6, 0.8, 0.9))\n",
    "\n",
    "ted.begin_fill()\n",
    "ted.circle(25)\n",
    "ted.end_fill()\n",
    "\n",
    "ted.penup()\n",
    "ted.goto((70,0))\n",
    "ted.pendown()\n",
    "ted.begin_fill()\n",
    "ted.circle(25)\n",
    "ted.end_fill()\n",
    "\n",
    "ted.penup()\n",
    "ted.goto((25,25))\n",
    "ted.pendown()\n",
    "ted.goto((45,25))\n",
    "\n",
    "ted.penup()\n",
    "ted.goto((-25,25))\n",
    "ted.pendown()\n",
    "ted.left(50)\n",
    "ted.forward(75)\n",
    "ted.right(50)\n",
    "ted.forward(20)\n",
    "\n",
    "ted.penup()\n",
    "ted.goto((95,25))\n",
    "ted.pendown()\n",
    "ted.left(50)\n",
    "ted.forward(75)\n",
    "ted.right(50)\n",
    "ted.forward(20)\n",
    "\n",
    "ted.hideturtle()"
   ]
  },
  {
   "cell_type": "markdown",
   "metadata": {},
   "source": [
    "After we're done drawing, let's close the window."
   ]
  },
  {
   "cell_type": "code",
   "execution_count": null,
   "metadata": {},
   "outputs": [],
   "source": [
    "window.bye()"
   ]
  },
  {
   "cell_type": "code",
   "execution_count": null,
   "metadata": {},
   "outputs": [],
   "source": []
  }
 ],
 "metadata": {
  "kernelspec": {
   "display_name": "Python 3",
   "language": "python",
   "name": "python3"
  },
  "language_info": {
   "codemirror_mode": {
    "name": "ipython",
    "version": 3
   },
   "file_extension": ".py",
   "mimetype": "text/x-python",
   "name": "python",
   "nbconvert_exporter": "python",
   "pygments_lexer": "ipython3",
   "version": "3.6.7"
  }
 },
 "nbformat": 4,
 "nbformat_minor": 2
}
