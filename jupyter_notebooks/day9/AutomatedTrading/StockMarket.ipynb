{
 "cells": [
  {
   "cell_type": "markdown",
   "metadata": {},
   "source": [
    "# Project - Automated Trading"
   ]
  },
  {
   "cell_type": "code",
   "execution_count": 14,
   "metadata": {},
   "outputs": [],
   "source": [
    "# import libraries\n",
    "import pandas as pd\n",
    "import datetime\n",
    "import matplotlib.pyplot as plt\n",
    "import matplotlib as mpl\n",
    "import numpy as np\n",
    "%matplotlib inline\n",
    "mpl.rcParams['figure.figsize'] = (15, 9)"
   ]
  },
  {
   "cell_type": "code",
   "execution_count": 2,
   "metadata": {},
   "outputs": [],
   "source": [
    "# Reading data from a csv file - downloaded from yahoo finance\n",
    "# feel free to choose any stock of your choice\n",
    "df = pd.read_csv('./data/GOOGL.csv', sep=',')\n",
    "\n",
    "# formatting the data for usage as datetime and not as string\n",
    "df['Date'] = df['Date'].map(lambda x: datetime.datetime(year = int(x[:4]), month = int(x[5:7]), day = int(x[8:])))"
   ]
  },
  {
   "cell_type": "code",
   "execution_count": 3,
   "metadata": {},
   "outputs": [],
   "source": [
    "# Print the top snapshot of the table\n",
    "# Hint: lookup the function head()"
   ]
  },
  {
   "cell_type": "code",
   "execution_count": 4,
   "metadata": {},
   "outputs": [],
   "source": [
    "# Print the bottom snapshot of the table\n",
    "# Hint: lookup the function tail()"
   ]
  },
  {
   "cell_type": "code",
   "execution_count": 5,
   "metadata": {},
   "outputs": [],
   "source": [
    "# plot the close prices of the stock with dates on x-axis"
   ]
  },
  {
   "cell_type": "markdown",
   "metadata": {},
   "source": [
    "#### Return\n",
    "\n",
    "Return of a stock is defined as follows:\n",
    "$r_{t} = \\frac{price_{t} - price_{t-1}}{price_{t-1}}$"
   ]
  },
  {
   "cell_type": "code",
   "execution_count": 7,
   "metadata": {},
   "outputs": [],
   "source": [
    "# calculate the returns"
   ]
  },
  {
   "cell_type": "code",
   "execution_count": 8,
   "metadata": {},
   "outputs": [],
   "source": [
    "# plot the returns of with dates on the x-axis"
   ]
  },
  {
   "cell_type": "markdown",
   "metadata": {},
   "source": [
    "#### Moving Average\n",
    "\n",
    "Moving average are used to smooth data when the data is noisy just the return data or the price data. It is defined over a certain period `q` as follows:\n",
    "\n",
    "$MA_{t}(q) = \\frac{p_{t-q} + p_{t-q+1} + \\dots + p_{t}}{q}$"
   ]
  },
  {
   "cell_type": "code",
   "execution_count": 10,
   "metadata": {},
   "outputs": [],
   "source": [
    "# calculate the moving average of the prices for 10, 20, 50, 200 days\n",
    "# hint: lookup the function rolling and sum in pandas"
   ]
  },
  {
   "cell_type": "code",
   "execution_count": 11,
   "metadata": {},
   "outputs": [],
   "source": [
    "# plot the prices as well as the moving averages calculated in the above cell"
   ]
  },
  {
   "cell_type": "code",
   "execution_count": 12,
   "metadata": {},
   "outputs": [],
   "source": [
    "# Calculate the cross-over i.e the difference between the moving averages\n",
    "# name the variables crossover_10_20, crossover_10_50, crossover_10_200 ..."
   ]
  },
  {
   "cell_type": "code",
   "execution_count": 13,
   "metadata": {},
   "outputs": [],
   "source": [
    "# calculate a new variable as call it \"Status\" and assign is 1 if the crossover > 0 and -1 for crossover < 0 and rest 0"
   ]
  },
  {
   "cell_type": "code",
   "execution_count": null,
   "metadata": {},
   "outputs": [],
   "source": [
    "# Prepare the final table for calculating profits - Just like in the class"
   ]
  }
 ],
 "metadata": {
  "kernelspec": {
   "display_name": "Python 3",
   "language": "python",
   "name": "python3"
  },
  "language_info": {
   "codemirror_mode": {
    "name": "ipython",
    "version": 3
   },
   "file_extension": ".py",
   "mimetype": "text/x-python",
   "name": "python",
   "nbconvert_exporter": "python",
   "pygments_lexer": "ipython3",
   "version": "3.7.3"
  }
 },
 "nbformat": 4,
 "nbformat_minor": 2
}
